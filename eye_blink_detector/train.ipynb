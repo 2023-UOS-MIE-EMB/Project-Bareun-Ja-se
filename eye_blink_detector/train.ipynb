{
 "cells": [
  {
   "cell_type": "code",
   "execution_count": 1,
   "metadata": {},
   "outputs": [
    {
     "name": "stderr",
     "output_type": "stream",
     "text": [
      "Using TensorFlow backend.\n"
     ]
    }
   ],
   "source": [
    "import datetime\n",
    "import numpy as np\n",
    "import matplotlib.pyplot as plt\n",
    "from keras.layers import Input, Activation, Conv2D, Flatten, Dense, MaxPooling2D\n",
    "from keras.models import Model, load_model\n",
    "from keras.preprocessing.image import ImageDataGenerator\n",
    "from keras.callbacks import ModelCheckpoint, ReduceLROnPlateau\n",
    "plt.style.use('dark_background')"
   ]
  },
  {
   "cell_type": "markdown",
   "metadata": {},
   "source": [
    "# Load Dataset"
   ]
  },
  {
   "cell_type": "code",
   "execution_count": 2,
   "metadata": {},
   "outputs": [
    {
     "name": "stdout",
     "output_type": "stream",
     "text": [
      "(2586, 26, 34, 1) (2586, 1)\n",
      "(288, 26, 34, 1) (288, 1)\n"
     ]
    }
   ],
   "source": [
    "x_train = np.load('dataset/x_train.npy').astype(np.float32)\n",
    "y_train = np.load('dataset/y_train.npy').astype(np.float32)\n",
    "x_val = np.load('dataset/x_val.npy').astype(np.float32)\n",
    "y_val = np.load('dataset/y_val.npy').astype(np.float32)\n",
    "\n",
    "print(x_train.shape, y_train.shape)\n",
    "print(x_val.shape, y_val.shape)"
   ]
  },
  {
   "cell_type": "markdown",
   "metadata": {},
   "source": [
    "# Preview"
   ]
  },
  {
   "cell_type": "code",
   "execution_count": 3,
   "metadata": {},
   "outputs": [
    {
     "data": {
      "text/plain": [
       "<matplotlib.image.AxesImage at 0x13017d518>"
      ]
     },
     "execution_count": 3,
     "metadata": {},
     "output_type": "execute_result"
    },
    {
     "data": {
      "image/png": "[encoded data removed]",
      "text/plain": [
       "<Figure size 432x288 with 2 Axes>"
      ]
     },
     "metadata": {},
     "output_type": "display_data"
    }
   ],
   "source": [
    "plt.subplot(2, 1, 1)\n",
    "plt.title(str(y_train[0]))\n",
    "plt.imshow(x_train[0].reshape((26, 34)), cmap='gray')\n",
    "plt.subplot(2, 1, 2)\n",
    "plt.title(str(y_val[4]))\n",
    "plt.imshow(x_val[4].reshape((26, 34)), cmap='gray')"
   ]
  },
  {
   "cell_type": "markdown",
   "metadata": {},
   "source": [
    "# Data Augmentation"
   ]
  },
  {
   "cell_type": "code",
   "execution_count": 4,
   "metadata": {},
   "outputs": [],
   "source": [
    "train_datagen = ImageDataGenerator(\n",
    "    rescale=1./255,\n",
    "    rotation_range=10,\n",
    "    width_shift_range=0.2,\n",
    "    height_shift_range=0.2,\n",
    "    shear_range=0.2\n",
    ")\n",
    "\n",
    "val_datagen = ImageDataGenerator(rescale=1./255)\n",
    "\n",
    "train_generator = train_datagen.flow(\n",
    "    x=x_train, y=y_train,\n",
    "    batch_size=32,\n",
    "    shuffle=True\n",
    ")\n",
    "\n",
    "val_generator = val_datagen.flow(\n",
    "    x=x_val, y=y_val,\n",
    "    batch_size=32,\n",
    "    shuffle=False\n",
    ")"
   ]
  },
  {
   "cell_type": "markdown",
   "metadata": {},
   "source": [
    "# Build Model"
   ]
  },
  {
   "cell_type": "code",
   "execution_count": 7,
   "metadata": {},
   "outputs": [
    {
     "name": "stdout",
     "output_type": "stream",
     "text": [
      "_________________________________________________________________\n",
      "Layer (type)                 Output Shape              Param #   \n",
      "=================================================================\n",
      "input_2 (InputLayer)         (None, 26, 34, 1)         0         \n",
      "_________________________________________________________________\n",
      "conv2d_4 (Conv2D)            (None, 26, 34, 32)        320       \n",
      "_________________________________________________________________\n",
      "max_pooling2d_4 (MaxPooling2 (None, 13, 17, 32)        0         \n",
      "_________________________________________________________________\n",
      "conv2d_5 (Conv2D)            (None, 13, 17, 64)        18496     \n",
      "_________________________________________________________________\n",
      "max_pooling2d_5 (MaxPooling2 (None, 6, 8, 64)          0         \n",
      "_________________________________________________________________\n",
      "conv2d_6 (Conv2D)            (None, 6, 8, 128)         73856     \n",
      "_________________________________________________________________\n",
      "max_pooling2d_6 (MaxPooling2 (None, 3, 4, 128)         0         \n",
      "_________________________________________________________________\n",
      "flatten_2 (Flatten)          (None, 1536)              0         \n",
      "_________________________________________________________________\n",
      "dense_3 (Dense)              (None, 512)               786944    \n",
      "_________________________________________________________________\n",
      "activation_3 (Activation)    (None, 512)               0         \n",
      "_________________________________________________________________\n",
      "dense_4 (Dense)              (None, 1)                 513       \n",
      "_________________________________________________________________\n",
      "activation_4 (Activation)    (None, 1)                 0         \n",
      "=================================================================\n",
      "Total params: 880,129\n",
      "Trainable params: 880,129\n",
      "Non-trainable params: 0\n",
      "_________________________________________________________________\n"
     ]
    }
   ],
   "source": [
    "inputs = Input(shape=(26, 34, 1))\n",
    "\n",
    "net = Conv2D(32, kernel_size=3, strides=1, padding='same', activation='relu')(inputs)\n",
    "net = MaxPooling2D(pool_size=2)(net)\n",
    "\n",
    "net = Conv2D(64, kernel_size=3, strides=1, padding='same', activation='relu')(net)\n",
    "net = MaxPooling2D(pool_size=2)(net)\n",
    "\n",
    "net = Conv2D(128, kernel_size=3, strides=1, padding='same', activation='relu')(net)\n",
    "net = MaxPooling2D(pool_size=2)(net)\n",
    "\n",
    "net = Flatten()(net)\n",
    "\n",
    "net = Dense(512)(net)\n",
    "net = Activation('relu')(net)\n",
    "net = Dense(1)(net)\n",
    "outputs = Activation('sigmoid')(net)\n",
    "\n",
    "model = Model(inputs=inputs, outputs=outputs)\n",
    "\n",
    "model.compile(optimizer='adam', loss='binary_crossentropy', metrics=['acc'])\n",
    "\n",
    "model.summary()"
   ]
  },
  {
   "cell_type": "markdown",
   "metadata": {},
   "source": [
    "# Train"
   ]
  },
  {
   "cell_type": "code",
   "execution_count": 6,
   "metadata": {
    "scrolled": true
   },
   "outputs": [
    {
     "name": "stdout",
     "output_type": "stream",
     "text": [
      "Epoch 1/50\n",
      "81/81 [==============================] - 4s 54ms/step - loss: 0.4922 - acc: 0.7573 - val_loss: 0.2625 - val_acc: 0.9167\n",
      "\n",
      "Epoch 00001: val_acc improved from -inf to 0.91667, saving model to models/2018_12_17_22_58_35.h5\n",
      "Epoch 2/50\n",
      "81/81 [==============================] - 4s 44ms/step - loss: 0.2703 - acc: 0.8950 - val_loss: 0.1172 - val_acc: 0.9653\n",
      "\n",
      "Epoch 00002: val_acc improved from 0.91667 to 0.96528, saving model to models/2018_12_17_22_58_35.h5\n",
      "Epoch 3/50\n",
      "81/81 [==============================] - 4s 45ms/step - loss: 0.1702 - acc: 0.9332 - val_loss: 0.0950 - val_acc: 0.9618\n",
      "\n",
      "Epoch 00003: val_acc did not improve from 0.96528\n",
      "Epoch 4/50\n",
      "81/81 [==============================] - 4s 48ms/step - loss: 0.1452 - acc: 0.9482 - val_loss: 0.0695 - val_acc: 0.9722\n",
      "\n",
      "Epoch 00004: val_acc improved from 0.96528 to 0.97222, saving model to models/2018_12_17_22_58_35.h5\n",
      "Epoch 5/50\n",
      "81/81 [==============================] - 3s 42ms/step - loss: 0.1268 - acc: 0.9579 - val_loss: 0.0532 - val_acc: 0.9757\n",
      "\n",
      "Epoch 00005: val_acc improved from 0.97222 to 0.97569, saving model to models/2018_12_17_22_58_35.h5\n",
      "Epoch 6/50\n",
      "81/81 [==============================] - 3s 42ms/step - loss: 0.1027 - acc: 0.9638 - val_loss: 0.0713 - val_acc: 0.9792\n",
      "\n",
      "Epoch 00006: val_acc improved from 0.97569 to 0.97917, saving model to models/2018_12_17_22_58_35.h5\n",
      "Epoch 7/50\n",
      "81/81 [==============================] - 3s 42ms/step - loss: 0.0943 - acc: 0.9664 - val_loss: 0.0379 - val_acc: 0.9896\n",
      "\n",
      "Epoch 00007: val_acc improved from 0.97917 to 0.98958, saving model to models/2018_12_17_22_58_35.h5\n",
      "Epoch 8/50\n",
      "81/81 [==============================] - 3s 43ms/step - loss: 0.0719 - acc: 0.9799 - val_loss: 0.0238 - val_acc: 0.9931\n",
      "\n",
      "Epoch 00008: val_acc improved from 0.98958 to 0.99306, saving model to models/2018_12_17_22_58_35.h5\n",
      "Epoch 9/50\n",
      "81/81 [==============================] - 3s 42ms/step - loss: 0.0740 - acc: 0.9780 - val_loss: 0.0673 - val_acc: 0.9826\n",
      "\n",
      "Epoch 00009: val_acc did not improve from 0.99306\n",
      "Epoch 10/50\n",
      "81/81 [==============================] - 3s 43ms/step - loss: 0.0652 - acc: 0.9795 - val_loss: 0.0293 - val_acc: 0.9861\n",
      "\n",
      "Epoch 00010: val_acc did not improve from 0.99306\n",
      "Epoch 11/50\n",
      "81/81 [==============================] - 3s 41ms/step - loss: 0.0567 - acc: 0.9811 - val_loss: 0.0257 - val_acc: 0.9896\n",
      "\n",
      "Epoch 00011: val_acc did not improve from 0.99306\n",
      "Epoch 12/50\n",
      "81/81 [==============================] - 3s 41ms/step - loss: 0.0389 - acc: 0.9869 - val_loss: 0.0279 - val_acc: 0.9861\n",
      "\n",
      "Epoch 00012: val_acc did not improve from 0.99306\n",
      "Epoch 13/50\n",
      "81/81 [==============================] - 3s 42ms/step - loss: 0.0561 - acc: 0.9826 - val_loss: 0.0325 - val_acc: 0.9931\n",
      "\n",
      "Epoch 00013: val_acc did not improve from 0.99306\n",
      "Epoch 14/50\n",
      "81/81 [==============================] - 3s 43ms/step - loss: 0.0358 - acc: 0.9861 - val_loss: 0.0370 - val_acc: 0.9896\n",
      "\n",
      "Epoch 00014: val_acc did not improve from 0.99306\n",
      "Epoch 15/50\n",
      "81/81 [==============================] - 3s 42ms/step - loss: 0.0408 - acc: 0.9846 - val_loss: 0.0180 - val_acc: 0.9931\n",
      "\n",
      "Epoch 00015: val_acc did not improve from 0.99306\n",
      "Epoch 16/50\n",
      "81/81 [==============================] - 3s 41ms/step - loss: 0.0349 - acc: 0.9877 - val_loss: 0.0175 - val_acc: 0.9896\n",
      "\n",
      "Epoch 00016: val_acc did not improve from 0.99306\n",
      "Epoch 17/50\n",
      "81/81 [==============================] - 3s 41ms/step - loss: 0.0308 - acc: 0.9880 - val_loss: 0.0096 - val_acc: 0.9931\n",
      "\n",
      "Epoch 00017: val_acc did not improve from 0.99306\n",
      "Epoch 18/50\n",
      "81/81 [==============================] - 3s 43ms/step - loss: 0.0347 - acc: 0.9896 - val_loss: 0.0085 - val_acc: 1.0000\n",
      "\n",
      "Epoch 00018: val_acc improved from 0.99306 to 1.00000, saving model to models/2018_12_17_22_58_35.h5\n",
      "Epoch 19/50\n",
      "81/81 [==============================] - 3s 42ms/step - loss: 0.0616 - acc: 0.9775 - val_loss: 0.0152 - val_acc: 0.9965\n",
      "\n",
      "Epoch 00019: val_acc did not improve from 1.00000\n",
      "Epoch 20/50\n",
      "81/81 [==============================] - 3s 43ms/step - loss: 0.0264 - acc: 0.9927 - val_loss: 0.0071 - val_acc: 0.9965\n",
      "\n",
      "Epoch 00020: val_acc did not improve from 1.00000\n",
      "Epoch 21/50\n",
      "81/81 [==============================] - 3s 41ms/step - loss: 0.0219 - acc: 0.9934 - val_loss: 0.0416 - val_acc: 0.9861\n",
      "\n",
      "Epoch 00021: val_acc did not improve from 1.00000\n",
      "Epoch 22/50\n",
      "81/81 [==============================] - 3s 43ms/step - loss: 0.0276 - acc: 0.9907 - val_loss: 0.0523 - val_acc: 0.9826\n",
      "\n",
      "Epoch 00022: val_acc did not improve from 1.00000\n",
      "Epoch 23/50\n",
      "81/81 [==============================] - 3s 43ms/step - loss: 0.0176 - acc: 0.9954 - val_loss: 0.0047 - val_acc: 1.0000\n",
      "\n",
      "Epoch 00023: val_acc did not improve from 1.00000\n",
      "Epoch 24/50\n",
      "81/81 [==============================] - 3s 43ms/step - loss: 0.0203 - acc: 0.9934 - val_loss: 0.0071 - val_acc: 0.9965\n",
      "\n",
      "Epoch 00024: val_acc did not improve from 1.00000\n",
      "Epoch 25/50\n",
      "81/81 [==============================] - 4s 44ms/step - loss: 0.0288 - acc: 0.9910 - val_loss: 0.0198 - val_acc: 0.9931\n",
      "\n",
      "Epoch 00025: val_acc did not improve from 1.00000\n",
      "Epoch 26/50\n",
      "81/81 [==============================] - 3s 40ms/step - loss: 0.0217 - acc: 0.9934 - val_loss: 0.0037 - val_acc: 1.0000\n",
      "\n",
      "Epoch 00026: val_acc did not improve from 1.00000\n",
      "Epoch 27/50\n",
      "81/81 [==============================] - 3s 43ms/step - loss: 0.0245 - acc: 0.9918 - val_loss: 0.0026 - val_acc: 1.0000\n",
      "\n",
      "Epoch 00027: val_acc did not improve from 1.00000\n",
      "Epoch 28/50\n",
      "81/81 [==============================] - 3s 41ms/step - loss: 0.0158 - acc: 0.9950 - val_loss: 0.0236 - val_acc: 0.9965\n",
      "\n",
      "Epoch 00028: val_acc did not improve from 1.00000\n",
      "\n",
      "Epoch 00028: ReduceLROnPlateau reducing learning rate to 0.00020000000949949026.\n",
      "Epoch 29/50\n",
      "81/81 [==============================] - 3s 41ms/step - loss: 0.0149 - acc: 0.9942 - val_loss: 0.0191 - val_acc: 0.9965\n",
      "\n",
      "Epoch 00029: val_acc did not improve from 1.00000\n",
      "Epoch 30/50\n",
      "81/81 [==============================] - 3s 41ms/step - loss: 0.0128 - acc: 0.9946 - val_loss: 0.0060 - val_acc: 0.9965\n",
      "\n",
      "Epoch 00030: val_acc did not improve from 1.00000\n",
      "Epoch 31/50\n",
      "81/81 [==============================] - 3s 41ms/step - loss: 0.0105 - acc: 0.9961 - val_loss: 0.0078 - val_acc: 0.9965\n",
      "\n",
      "Epoch 00031: val_acc did not improve from 1.00000\n",
      "Epoch 32/50\n",
      "81/81 [==============================] - 3s 41ms/step - loss: 0.0096 - acc: 0.9969 - val_loss: 0.0060 - val_acc: 0.9965\n",
      "\n",
      "Epoch 00032: val_acc did not improve from 1.00000\n",
      "Epoch 33/50\n",
      "81/81 [==============================] - 3s 40ms/step - loss: 0.0162 - acc: 0.9931 - val_loss: 0.0045 - val_acc: 0.9965\n",
      "\n",
      "Epoch 00033: val_acc did not improve from 1.00000\n",
      "Epoch 34/50\n",
      "81/81 [==============================] - 3s 41ms/step - loss: 0.0069 - acc: 0.9981 - val_loss: 0.0040 - val_acc: 1.0000\n",
      "\n",
      "Epoch 00034: val_acc did not improve from 1.00000\n",
      "Epoch 35/50\n",
      "81/81 [==============================] - 3s 43ms/step - loss: 0.0070 - acc: 0.9969 - val_loss: 0.0106 - val_acc: 0.9931\n",
      "\n",
      "Epoch 00035: val_acc did not improve from 1.00000\n",
      "Epoch 36/50\n",
      "81/81 [==============================] - 3s 40ms/step - loss: 0.0066 - acc: 0.9985 - val_loss: 0.0043 - val_acc: 0.9965\n",
      "\n",
      "Epoch 00036: val_acc did not improve from 1.00000\n",
      "Epoch 37/50\n",
      "81/81 [==============================] - 3s 41ms/step - loss: 0.0051 - acc: 0.9981 - val_loss: 0.0030 - val_acc: 1.0000\n",
      "\n",
      "Epoch 00037: val_acc did not improve from 1.00000\n",
      "Epoch 38/50\n",
      "81/81 [==============================] - 3s 41ms/step - loss: 0.0047 - acc: 0.9992 - val_loss: 0.0057 - val_acc: 0.9965\n",
      "\n",
      "Epoch 00038: val_acc did not improve from 1.00000\n",
      "\n",
      "Epoch 00038: ReduceLROnPlateau reducing learning rate to 4.0000001899898055e-05.\n",
      "Epoch 39/50\n",
      "81/81 [==============================] - 3s 42ms/step - loss: 0.0126 - acc: 0.9977 - val_loss: 0.0052 - val_acc: 0.9965\n",
      "\n",
      "Epoch 00039: val_acc did not improve from 1.00000\n",
      "Epoch 40/50\n",
      "81/81 [==============================] - 3s 42ms/step - loss: 0.0065 - acc: 0.9981 - val_loss: 0.0056 - val_acc: 0.9965\n",
      "\n",
      "Epoch 00040: val_acc did not improve from 1.00000\n",
      "Epoch 41/50\n",
      "81/81 [==============================] - 3s 41ms/step - loss: 0.0037 - acc: 0.9992 - val_loss: 0.0048 - val_acc: 0.9965\n",
      "\n",
      "Epoch 00041: val_acc did not improve from 1.00000\n",
      "Epoch 42/50\n",
      "81/81 [==============================] - 3s 42ms/step - loss: 0.0067 - acc: 0.9976 - val_loss: 0.0054 - val_acc: 0.9965\n"
     ]
    },
    {
     "name": "stdout",
     "output_type": "stream",
     "text": [
      "\n",
      "Epoch 00042: val_acc did not improve from 1.00000\n",
      "Epoch 43/50\n",
      "81/81 [==============================] - 3s 41ms/step - loss: 0.0087 - acc: 0.9965 - val_loss: 0.0037 - val_acc: 1.0000\n",
      "\n",
      "Epoch 00043: val_acc did not improve from 1.00000\n",
      "Epoch 44/50\n",
      "81/81 [==============================] - 3s 41ms/step - loss: 0.0065 - acc: 0.9981 - val_loss: 0.0030 - val_acc: 1.0000\n",
      "\n",
      "Epoch 00044: val_acc did not improve from 1.00000\n",
      "Epoch 45/50\n",
      "81/81 [==============================] - 3s 40ms/step - loss: 0.0034 - acc: 0.9988 - val_loss: 0.0027 - val_acc: 1.0000\n",
      "\n",
      "Epoch 00045: val_acc did not improve from 1.00000\n",
      "Epoch 46/50\n",
      "81/81 [==============================] - 3s 40ms/step - loss: 0.0049 - acc: 0.9981 - val_loss: 0.0038 - val_acc: 0.9965\n",
      "\n",
      "Epoch 00046: val_acc did not improve from 1.00000\n",
      "Epoch 47/50\n",
      "81/81 [==============================] - 3s 40ms/step - loss: 0.0051 - acc: 0.9985 - val_loss: 0.0028 - val_acc: 1.0000\n",
      "\n",
      "Epoch 00047: val_acc did not improve from 1.00000\n",
      "Epoch 48/50\n",
      "81/81 [==============================] - 3s 41ms/step - loss: 0.0042 - acc: 0.9988 - val_loss: 0.0032 - val_acc: 1.0000\n",
      "\n",
      "Epoch 00048: val_acc did not improve from 1.00000\n",
      "\n",
      "Epoch 00048: ReduceLROnPlateau reducing learning rate to 1e-05.\n",
      "Epoch 49/50\n",
      "81/81 [==============================] - 3s 41ms/step - loss: 0.0031 - acc: 0.9996 - val_loss: 0.0035 - val_acc: 1.0000\n",
      "\n",
      "Epoch 00049: val_acc did not improve from 1.00000\n",
      "Epoch 50/50\n",
      "81/81 [==============================] - 3s 42ms/step - loss: 0.0032 - acc: 0.9996 - val_loss: 0.0036 - val_acc: 0.9965\n",
      "\n",
      "Epoch 00050: val_acc did not improve from 1.00000\n"
     ]
    },
    {
     "data": {
      "text/plain": [
       "<keras.callbacks.History at 0x130250198>"
      ]
     },
     "execution_count": 6,
     "metadata": {},
     "output_type": "execute_result"
    }
   ],
   "source": [
    "start_time = datetime.datetime.now().strftime('%Y_%m_%d_%H_%M_%S')\n",
    "\n",
    "model.fit_generator(\n",
    "    train_generator, epochs=50, validation_data=val_generator,\n",
    "    callbacks=[\n",
    "        ModelCheckpoint('models/%s.h5' % (start_time), monitor='val_acc', save_best_only=True, mode='max', verbose=1),\n",
    "        ReduceLROnPlateau(monitor='val_acc', factor=0.2, patience=10, verbose=1, mode='auto', min_lr=1e-05)\n",
    "    ]\n",
    ")"
   ]
  },
  {
   "cell_type": "markdown",
   "metadata": {},
   "source": [
    "# Confusion Matrix"
   ]
  },
  {
   "cell_type": "code",
   "execution_count": 8,
   "metadata": {},
   "outputs": [
    {
     "name": "stdout",
     "output_type": "stream",
     "text": [
      "test acc: 1.0\n"
     ]
    },
    {
     "data": {
      "text/plain": [
       "<matplotlib.axes._subplots.AxesSubplot at 0x13113c7f0>"
      ]
     },
     "execution_count": 8,
     "metadata": {},
     "output_type": "execute_result"
    },
    {
     "data": {
      "image/png": "[encoded data removed]",
      "text/plain": [
       "<Figure size 432x288 with 2 Axes>"
      ]
     },
     "metadata": {},
     "output_type": "display_data"
    }
   ],
   "source": [
    "from sklearn.metrics import accuracy_score, confusion_matrix\n",
    "import seaborn as sns\n",
    "\n",
    "model = load_model('models/%s.h5' % (start_time))\n",
    "\n",
    "y_pred = model.predict(x_val/255.)\n",
    "y_pred_logical = (y_pred > 0.5).astype(np.int)\n",
    "\n",
    "print ('test acc: %s' % accuracy_score(y_val, y_pred_logical))\n",
    "cm = confusion_matrix(y_val, y_pred_logical)\n",
    "sns.heatmap(cm, annot=True)"
   ]
  },
  {
   "cell_type": "markdown",
   "metadata": {},
   "source": [
    "# Distribution of Prediction"
   ]
  },
  {
   "cell_type": "code",
   "execution_count": 9,
   "metadata": {},
   "outputs": [
    {
     "name": "stderr",
     "output_type": "stream",
     "text": [
     ]
    },
    {
     "data": {
      "image/png": "[encoded data removed]",
      "text/plain": [
       "<Figure size 432x288 with 1 Axes>"
      ]
     },
     "metadata": {},
     "output_type": "display_data"
    }
   ],
   "source": [
    "ax = sns.distplot(y_pred, kde=False)"
   ]
  },
  {
   "cell_type": "code",
   "execution_count": null,
   "metadata": {},
   "outputs": [],
   "source": []
  }
 ],
 "metadata": {
  "kernelspec": {
   "display_name": "bdf",
   "language": "python",
   "name": "bdf"
  },
  "language_info": {
   "codemirror_mode": {
    "name": "ipython",
    "version": 3
   },
   "file_extension": ".py",
   "mimetype": "text/x-python",
   "name": "python",
   "nbconvert_exporter": "python",
   "pygments_lexer": "ipython3",
   "version": "3.6.7"
  }
 },
 "nbformat": 4,
 "nbformat_minor": 2
}
